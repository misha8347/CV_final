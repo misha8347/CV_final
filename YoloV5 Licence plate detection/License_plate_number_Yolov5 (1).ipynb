{
  "cells": [
    {
      "cell_type": "code",
      "execution_count": 1,
      "metadata": {
        "colab": {
          "base_uri": "https://localhost:8080/"
        },
        "id": "KYlHdoxlePiG",
        "outputId": "149572d9-2983-428b-f5c5-73716f2a0d03"
      },
      "outputs": [
        {
          "name": "stderr",
          "output_type": "stream",
          "text": [
            "YOLOv5 🚀 v7.0-306-gb599ae42 Python-3.10.12 torch-2.2.1+cu121 CUDA:0 (Tesla T4, 15102MiB)\n"
          ]
        },
        {
          "name": "stdout",
          "output_type": "stream",
          "text": [
            "Setup complete ✅ (2 CPUs, 12.7 GB RAM, 28.9/78.2 GB disk)\n"
          ]
        }
      ],
      "source": [
        "!git clone https://github.com/ultralytics/yolov5  # clone\n",
        "%cd yolov5\n",
        "%pip install -qr requirements.txt  # install\n",
        "\n",
        "import torch\n",
        "from yolov5 import utils\n",
        "display = utils.notebook_init()"
      ]
    },
    {
      "cell_type": "code",
      "execution_count": 2,
      "metadata": {
        "colab": {
          "base_uri": "https://localhost:8080/"
        },
        "id": "51TkwwyIfUYh",
        "outputId": "10b2bd2a-8f0e-4ad7-ed45-585f580528dd"
      },
      "outputs": [
        {
          "name": "stdout",
          "output_type": "stream",
          "text": [
            "Mounted at /content/drive/\n"
          ]
        }
      ],
      "source": [
        "from google.colab import drive\n",
        "drive.mount('/content/drive/')"
      ]
    },
    {
      "cell_type": "code",
      "execution_count": null,
      "metadata": {
        "colab": {
          "base_uri": "https://localhost:8080/"
        },
        "id": "NLuqViV91ZYQ",
        "outputId": "83968a0f-1861-46d2-f9f7-63f56df60e4d"
      },
      "outputs": [],
      "source": [
        "!unzip '/content/drive/MyDrive/Deep Leraning & Computer Vision/final_project/yolo_plate_dataset.zip' -d '/content/yolov5/dataset'"
      ]
    },
    {
      "cell_type": "code",
      "execution_count": null,
      "metadata": {
        "id": "z7iW0Pg62E0T"
      },
      "outputs": [],
      "source": [
        "# 1. Add dataset.yaml file to yolov5 folder for configuration\n",
        "# 2. Add model weights to yolov5 folder for configuration"
      ]
    },
    {
      "cell_type": "code",
      "execution_count": 5,
      "metadata": {
        "colab": {
          "base_uri": "https://localhost:8080/"
        },
        "id": "r0djHnB93-h-",
        "outputId": "f8a9cbea-c417-4fe1-941b-fdeaf0f131e1"
      },
      "outputs": [
        {
          "name": "stdout",
          "output_type": "stream",
          "text": [
            "2024-05-03 08:05:45.177398: E external/local_xla/xla/stream_executor/cuda/cuda_dnn.cc:9261] Unable to register cuDNN factory: Attempting to register factory for plugin cuDNN when one has already been registered\n",
            "2024-05-03 08:05:45.177450: E external/local_xla/xla/stream_executor/cuda/cuda_fft.cc:607] Unable to register cuFFT factory: Attempting to register factory for plugin cuFFT when one has already been registered\n",
            "2024-05-03 08:05:45.178819: E external/local_xla/xla/stream_executor/cuda/cuda_blas.cc:1515] Unable to register cuBLAS factory: Attempting to register factory for plugin cuBLAS when one has already been registered\n",
            "\u001b[34m\u001b[1mtrain: \u001b[0mweights=yolov5m.pt, cfg=, data=dataset.yaml, hyp=data/hyps/hyp.scratch-low.yaml, epochs=15, batch_size=8, imgsz=640, rect=False, resume=False, nosave=False, noval=False, noautoanchor=False, noplots=False, evolve=None, evolve_population=data/hyps, resume_evolve=None, bucket=, cache=None, image_weights=False, device=, multi_scale=False, single_cls=False, optimizer=SGD, sync_bn=False, workers=8, project=runs/train, name=exp, exist_ok=False, quad=False, cos_lr=False, label_smoothing=0.0, patience=100, freeze=[0], save_period=-1, seed=0, local_rank=-1, entity=None, upload_dataset=False, bbox_interval=-1, artifact_alias=latest, ndjson_console=False, ndjson_file=False\n",
            "\u001b[34m\u001b[1mgithub: \u001b[0mup to date with https://github.com/ultralytics/yolov5 ✅\n",
            "YOLOv5 🚀 v7.0-306-gb599ae42 Python-3.10.12 torch-2.2.1+cu121 CUDA:0 (Tesla T4, 15102MiB)\n",
            "\n",
            "\u001b[34m\u001b[1mhyperparameters: \u001b[0mlr0=0.01, lrf=0.01, momentum=0.937, weight_decay=0.0005, warmup_epochs=3.0, warmup_momentum=0.8, warmup_bias_lr=0.1, box=0.05, cls=0.5, cls_pw=1.0, obj=1.0, obj_pw=1.0, iou_t=0.2, anchor_t=4.0, fl_gamma=0.0, hsv_h=0.015, hsv_s=0.7, hsv_v=0.4, degrees=0.0, translate=0.1, scale=0.5, shear=0.0, perspective=0.0, flipud=0.0, fliplr=0.5, mosaic=1.0, mixup=0.0, copy_paste=0.0\n",
            "\u001b[34m\u001b[1mComet: \u001b[0mrun 'pip install comet_ml' to automatically track and visualize YOLOv5 🚀 runs in Comet\n",
            "\u001b[34m\u001b[1mTensorBoard: \u001b[0mStart with 'tensorboard --logdir runs/train', view at http://localhost:6006/\n",
            "Overriding model.yaml nc=80 with nc=1\n",
            "\n",
            "                 from  n    params  module                                  arguments                     \n",
            "  0                -1  1      5280  models.common.Conv                      [3, 48, 6, 2, 2]              \n",
            "  1                -1  1     41664  models.common.Conv                      [48, 96, 3, 2]                \n",
            "  2                -1  2     65280  models.common.C3                        [96, 96, 2]                   \n",
            "  3                -1  1    166272  models.common.Conv                      [96, 192, 3, 2]               \n",
            "  4                -1  4    444672  models.common.C3                        [192, 192, 4]                 \n",
            "  5                -1  1    664320  models.common.Conv                      [192, 384, 3, 2]              \n",
            "  6                -1  6   2512896  models.common.C3                        [384, 384, 6]                 \n",
            "  7                -1  1   2655744  models.common.Conv                      [384, 768, 3, 2]              \n",
            "  8                -1  2   4134912  models.common.C3                        [768, 768, 2]                 \n",
            "  9                -1  1   1476864  models.common.SPPF                      [768, 768, 5]                 \n",
            " 10                -1  1    295680  models.common.Conv                      [768, 384, 1, 1]              \n",
            " 11                -1  1         0  torch.nn.modules.upsampling.Upsample    [None, 2, 'nearest']          \n",
            " 12           [-1, 6]  1         0  models.common.Concat                    [1]                           \n",
            " 13                -1  2   1182720  models.common.C3                        [768, 384, 2, False]          \n",
            " 14                -1  1     74112  models.common.Conv                      [384, 192, 1, 1]              \n",
            " 15                -1  1         0  torch.nn.modules.upsampling.Upsample    [None, 2, 'nearest']          \n",
            " 16           [-1, 4]  1         0  models.common.Concat                    [1]                           \n",
            " 17                -1  2    296448  models.common.C3                        [384, 192, 2, False]          \n",
            " 18                -1  1    332160  models.common.Conv                      [192, 192, 3, 2]              \n",
            " 19          [-1, 14]  1         0  models.common.Concat                    [1]                           \n",
            " 20                -1  2   1035264  models.common.C3                        [384, 384, 2, False]          \n",
            " 21                -1  1   1327872  models.common.Conv                      [384, 384, 3, 2]              \n",
            " 22          [-1, 10]  1         0  models.common.Concat                    [1]                           \n",
            " 23                -1  2   4134912  models.common.C3                        [768, 768, 2, False]          \n",
            " 24      [17, 20, 23]  1     24246  models.yolo.Detect                      [1, [[10, 13, 16, 30, 33, 23], [30, 61, 62, 45, 59, 119], [116, 90, 156, 198, 373, 326]], [192, 384, 768]]\n",
            "Model summary: 291 layers, 20871318 parameters, 20871318 gradients, 48.2 GFLOPs\n",
            "\n",
            "Transferred 475/481 items from yolov5m.pt\n",
            "\u001b[34m\u001b[1mAMP: \u001b[0mchecks passed ✅\n",
            "\u001b[34m\u001b[1moptimizer:\u001b[0m SGD(lr=0.01) with parameter groups 79 weight(decay=0.0), 82 weight(decay=0.0005), 82 bias\n",
            "\u001b[34m\u001b[1malbumentations: \u001b[0mBlur(p=0.01, blur_limit=(3, 7)), MedianBlur(p=0.01, blur_limit=(3, 7)), ToGray(p=0.01), CLAHE(p=0.01, clip_limit=(1, 4.0), tile_grid_size=(8, 8))\n",
            "/usr/lib/python3.10/multiprocessing/popen_fork.py:66: RuntimeWarning: os.fork() was called. os.fork() is incompatible with multithreaded code, and JAX is multithreaded, so this will likely lead to a deadlock.\n",
            "  self.pid = os.fork()\n",
            "\u001b[34m\u001b[1mtrain: \u001b[0mScanning /content/yolov5/dataset/yolo_plate_dataset/labels/train... 5781 images, 0 backgrounds, 0 corrupt: 100% 5781/5781 [00:05<00:00, 1100.54it/s]\n",
            "\u001b[34m\u001b[1mtrain: \u001b[0mWARNING ⚠️ /content/yolov5/dataset/yolo_plate_dataset/images/train/quandoi63.jpg: corrupt JPEG restored and saved\n",
            "\u001b[34m\u001b[1mtrain: \u001b[0mNew cache created: /content/yolov5/dataset/yolo_plate_dataset/labels/train.cache\n",
            "\u001b[34m\u001b[1mval: \u001b[0mScanning /content/yolov5/dataset/yolo_plate_dataset/labels/val... 1238 images, 0 backgrounds, 0 corrupt: 100% 1238/1238 [00:01<00:00, 682.07it/s]\n",
            "\u001b[34m\u001b[1mval: \u001b[0mNew cache created: /content/yolov5/dataset/yolo_plate_dataset/labels/val.cache\n",
            "\n",
            "\u001b[34m\u001b[1mAutoAnchor: \u001b[0m4.49 anchors/target, 1.000 Best Possible Recall (BPR). Current anchors are a good fit to dataset ✅\n",
            "Plotting labels to runs/train/exp2/labels.jpg... \n",
            "Image sizes 640 train, 640 val\n",
            "Using 2 dataloader workers\n",
            "Logging results to \u001b[1mruns/train/exp2\u001b[0m\n",
            "Starting training for 15 epochs...\n",
            "\n",
            "      Epoch    GPU_mem   box_loss   obj_loss   cls_loss  Instances       Size\n",
            "       0/14      3.27G    0.05997    0.01728          0         16        640: 100% 723/723 [03:36<00:00,  3.34it/s]\n",
            "                 Class     Images  Instances          P          R      mAP50   mAP50-95: 100% 78/78 [00:20<00:00,  3.72it/s]\n",
            "                   all       1238       1265      0.913      0.907      0.963      0.513\n",
            "\n",
            "      Epoch    GPU_mem   box_loss   obj_loss   cls_loss  Instances       Size\n",
            "       1/14      4.19G    0.03889   0.009655          0          7        640: 100% 723/723 [03:27<00:00,  3.48it/s]\n",
            "                 Class     Images  Instances          P          R      mAP50   mAP50-95: 100% 78/78 [00:18<00:00,  4.14it/s]\n",
            "                   all       1238       1265      0.979      0.976      0.987      0.587\n",
            "\n",
            "      Epoch    GPU_mem   box_loss   obj_loss   cls_loss  Instances       Size\n",
            "       2/14      4.19G    0.03579   0.007921          0         10        640: 100% 723/723 [03:26<00:00,  3.50it/s]\n",
            "                 Class     Images  Instances          P          R      mAP50   mAP50-95: 100% 78/78 [00:17<00:00,  4.44it/s]\n",
            "                   all       1238       1265      0.982      0.975      0.991      0.571\n",
            "\n",
            "      Epoch    GPU_mem   box_loss   obj_loss   cls_loss  Instances       Size\n",
            "       3/14       4.2G    0.03163   0.007075          0         10        640: 100% 723/723 [03:27<00:00,  3.48it/s]\n",
            "                 Class     Images  Instances          P          R      mAP50   mAP50-95: 100% 78/78 [00:17<00:00,  4.40it/s]\n",
            "                   all       1238       1265      0.984      0.987      0.994      0.676\n",
            "\n",
            "      Epoch    GPU_mem   box_loss   obj_loss   cls_loss  Instances       Size\n",
            "       4/14       4.2G     0.0282   0.006654          0          9        640: 100% 723/723 [03:25<00:00,  3.53it/s]\n",
            "                 Class     Images  Instances          P          R      mAP50   mAP50-95: 100% 78/78 [00:19<00:00,  4.02it/s]\n",
            "                   all       1238       1265       0.99      0.984      0.994      0.678\n",
            "\n",
            "      Epoch    GPU_mem   box_loss   obj_loss   cls_loss  Instances       Size\n",
            "       5/14       4.2G    0.02596   0.006297          0          8        640: 100% 723/723 [03:25<00:00,  3.51it/s]\n",
            "                 Class     Images  Instances          P          R      mAP50   mAP50-95: 100% 78/78 [00:18<00:00,  4.15it/s]\n",
            "                   all       1238       1265      0.985      0.991      0.995      0.701\n",
            "\n",
            "      Epoch    GPU_mem   box_loss   obj_loss   cls_loss  Instances       Size\n",
            "       6/14       4.2G    0.02463   0.006126          0         11        640: 100% 723/723 [03:26<00:00,  3.49it/s]\n",
            "                 Class     Images  Instances          P          R      mAP50   mAP50-95: 100% 78/78 [00:17<00:00,  4.43it/s]\n",
            "                   all       1238       1265      0.992      0.984      0.995      0.693\n",
            "\n",
            "      Epoch    GPU_mem   box_loss   obj_loss   cls_loss  Instances       Size\n",
            "       7/14       4.2G    0.02353    0.00595          0         10        640: 100% 723/723 [03:25<00:00,  3.51it/s]\n",
            "                 Class     Images  Instances          P          R      mAP50   mAP50-95: 100% 78/78 [00:17<00:00,  4.48it/s]\n",
            "                   all       1238       1265      0.991      0.992      0.995      0.709\n",
            "\n",
            "      Epoch    GPU_mem   box_loss   obj_loss   cls_loss  Instances       Size\n",
            "       8/14       4.2G    0.02297   0.005927          0         10        640: 100% 723/723 [03:26<00:00,  3.51it/s]\n",
            "                 Class     Images  Instances          P          R      mAP50   mAP50-95: 100% 78/78 [00:17<00:00,  4.45it/s]\n",
            "                   all       1238       1265      0.991      0.992      0.995      0.713\n",
            "\n",
            "      Epoch    GPU_mem   box_loss   obj_loss   cls_loss  Instances       Size\n",
            "       9/14       4.2G    0.02236   0.005826          0          9        640: 100% 723/723 [03:25<00:00,  3.53it/s]\n",
            "                 Class     Images  Instances          P          R      mAP50   mAP50-95: 100% 78/78 [00:17<00:00,  4.53it/s]\n",
            "                   all       1238       1265       0.99      0.998      0.994      0.716\n",
            "\n",
            "      Epoch    GPU_mem   box_loss   obj_loss   cls_loss  Instances       Size\n",
            "      10/14       4.2G    0.02166   0.005842          0          7        640: 100% 723/723 [03:26<00:00,  3.50it/s]\n",
            "                 Class     Images  Instances          P          R      mAP50   mAP50-95: 100% 78/78 [00:17<00:00,  4.41it/s]\n",
            "                   all       1238       1265      0.993      0.995      0.995      0.718\n",
            "\n",
            "      Epoch    GPU_mem   box_loss   obj_loss   cls_loss  Instances       Size\n",
            "      11/14       4.2G    0.02138   0.005712          0          6        640: 100% 723/723 [03:25<00:00,  3.52it/s]\n",
            "                 Class     Images  Instances          P          R      mAP50   mAP50-95: 100% 78/78 [00:17<00:00,  4.48it/s]\n",
            "                   all       1238       1265      0.989      0.995      0.994      0.723\n",
            "\n",
            "      Epoch    GPU_mem   box_loss   obj_loss   cls_loss  Instances       Size\n",
            "      12/14       4.2G    0.02091   0.005533          0          7        640: 100% 723/723 [03:27<00:00,  3.48it/s]\n",
            "                 Class     Images  Instances          P          R      mAP50   mAP50-95: 100% 78/78 [00:17<00:00,  4.48it/s]\n",
            "                   all       1238       1265      0.991      0.996      0.995      0.727\n",
            "\n",
            "      Epoch    GPU_mem   box_loss   obj_loss   cls_loss  Instances       Size\n",
            "      13/14       4.2G    0.02037   0.005489          0         10        640: 100% 723/723 [03:23<00:00,  3.55it/s]\n",
            "                 Class     Images  Instances          P          R      mAP50   mAP50-95: 100% 78/78 [00:18<00:00,  4.20it/s]\n",
            "                   all       1238       1265      0.992      0.998      0.995       0.73\n",
            "\n",
            "      Epoch    GPU_mem   box_loss   obj_loss   cls_loss  Instances       Size\n",
            "      14/14       4.2G    0.02012   0.005392          0         10        640: 100% 723/723 [03:24<00:00,  3.54it/s]\n",
            "                 Class     Images  Instances          P          R      mAP50   mAP50-95: 100% 78/78 [00:17<00:00,  4.48it/s]\n",
            "                   all       1238       1265       0.99      0.998      0.994       0.73\n",
            "\n",
            "15 epochs completed in 0.945 hours.\n",
            "Optimizer stripped from runs/train/exp2/weights/last.pt, 42.2MB\n",
            "Optimizer stripped from runs/train/exp2/weights/best.pt, 42.2MB\n",
            "\n",
            "Validating runs/train/exp2/weights/best.pt...\n",
            "Fusing layers... \n",
            "Model summary: 212 layers, 20852934 parameters, 0 gradients, 47.9 GFLOPs\n",
            "                 Class     Images  Instances          P          R      mAP50   mAP50-95: 100% 78/78 [00:20<00:00,  3.89it/s]\n",
            "                   all       1238       1265       0.99      0.998      0.994      0.729\n",
            "Results saved to \u001b[1mruns/train/exp2\u001b[0m\n"
          ]
        }
      ],
      "source": [
        "!python train.py --img 640 --batch 8 --epochs 15 --data dataset.yaml --weights  yolov5m.pt"
      ]
    },
    {
      "cell_type": "code",
      "execution_count": null,
      "metadata": {
        "id": "sZOgB0i16G2a"
      },
      "outputs": [],
      "source": [
        "#calculate more metrics again"
      ]
    }
  ],
  "metadata": {
    "accelerator": "GPU",
    "colab": {
      "gpuType": "T4",
      "provenance": []
    },
    "kernelspec": {
      "display_name": "Python 3",
      "name": "python3"
    },
    "language_info": {
      "name": "python"
    }
  },
  "nbformat": 4,
  "nbformat_minor": 0
}
